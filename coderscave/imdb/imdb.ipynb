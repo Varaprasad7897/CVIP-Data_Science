{
 "cells": [
  {
   "cell_type": "code",
   "execution_count": 1,
   "id": "1e4a680b",
   "metadata": {},
   "outputs": [],
   "source": [
    "import pandas as pd\n",
    "import seaborn as sns\n",
    "import matplotlib.pyplot as plt"
   ]
  },
  {
   "cell_type": "markdown",
   "id": "47ef2872",
   "metadata": {},
   "source": [
    "## Loading the data of Imdb movies "
   ]
  },
  {
   "cell_type": "code",
   "execution_count": 57,
   "id": "984b75ae",
   "metadata": {},
   "outputs": [],
   "source": [
    "imdb_data = pd.read_csv('/Users/varap/OneDrive/Desktop/coderscave/imdb/imdb_top_1000.csv')"
   ]
  },
  {
   "cell_type": "code",
   "execution_count": 7,
   "id": "29dec592",
   "metadata": {},
   "outputs": [
    {
     "data": {
      "text/html": [
       "<div>\n",
       "<style scoped>\n",
       "    .dataframe tbody tr th:only-of-type {\n",
       "        vertical-align: middle;\n",
       "    }\n",
       "\n",
       "    .dataframe tbody tr th {\n",
       "        vertical-align: top;\n",
       "    }\n",
       "\n",
       "    .dataframe thead th {\n",
       "        text-align: right;\n",
       "    }\n",
       "</style>\n",
       "<table border=\"1\" class=\"dataframe\">\n",
       "  <thead>\n",
       "    <tr style=\"text-align: right;\">\n",
       "      <th></th>\n",
       "      <th>Poster_Link</th>\n",
       "      <th>Series_Title</th>\n",
       "      <th>Released_Year</th>\n",
       "      <th>Certificate</th>\n",
       "      <th>Runtime</th>\n",
       "      <th>Genre</th>\n",
       "      <th>IMDB_Rating</th>\n",
       "      <th>Overview</th>\n",
       "      <th>Meta_score</th>\n",
       "      <th>Director</th>\n",
       "      <th>Star1</th>\n",
       "      <th>Star2</th>\n",
       "      <th>Star3</th>\n",
       "      <th>Star4</th>\n",
       "      <th>No_of_Votes</th>\n",
       "      <th>Gross</th>\n",
       "    </tr>\n",
       "  </thead>\n",
       "  <tbody>\n",
       "    <tr>\n",
       "      <th>0</th>\n",
       "      <td>https://m.media-amazon.com/images/M/MV5BMDFkYT...</td>\n",
       "      <td>The Shawshank Redemption</td>\n",
       "      <td>1994</td>\n",
       "      <td>A</td>\n",
       "      <td>142 min</td>\n",
       "      <td>Drama</td>\n",
       "      <td>9.3</td>\n",
       "      <td>Two imprisoned men bond over a number of years...</td>\n",
       "      <td>80.0</td>\n",
       "      <td>Frank Darabont</td>\n",
       "      <td>Tim Robbins</td>\n",
       "      <td>Morgan Freeman</td>\n",
       "      <td>Bob Gunton</td>\n",
       "      <td>William Sadler</td>\n",
       "      <td>2343110</td>\n",
       "      <td>28,341,469</td>\n",
       "    </tr>\n",
       "    <tr>\n",
       "      <th>1</th>\n",
       "      <td>https://m.media-amazon.com/images/M/MV5BM2MyNj...</td>\n",
       "      <td>The Godfather</td>\n",
       "      <td>1972</td>\n",
       "      <td>A</td>\n",
       "      <td>175 min</td>\n",
       "      <td>Crime, Drama</td>\n",
       "      <td>9.2</td>\n",
       "      <td>An organized crime dynasty's aging patriarch t...</td>\n",
       "      <td>100.0</td>\n",
       "      <td>Francis Ford Coppola</td>\n",
       "      <td>Marlon Brando</td>\n",
       "      <td>Al Pacino</td>\n",
       "      <td>James Caan</td>\n",
       "      <td>Diane Keaton</td>\n",
       "      <td>1620367</td>\n",
       "      <td>134,966,411</td>\n",
       "    </tr>\n",
       "    <tr>\n",
       "      <th>2</th>\n",
       "      <td>https://m.media-amazon.com/images/M/MV5BMTMxNT...</td>\n",
       "      <td>The Dark Knight</td>\n",
       "      <td>2008</td>\n",
       "      <td>UA</td>\n",
       "      <td>152 min</td>\n",
       "      <td>Action, Crime, Drama</td>\n",
       "      <td>9.0</td>\n",
       "      <td>When the menace known as the Joker wreaks havo...</td>\n",
       "      <td>84.0</td>\n",
       "      <td>Christopher Nolan</td>\n",
       "      <td>Christian Bale</td>\n",
       "      <td>Heath Ledger</td>\n",
       "      <td>Aaron Eckhart</td>\n",
       "      <td>Michael Caine</td>\n",
       "      <td>2303232</td>\n",
       "      <td>534,858,444</td>\n",
       "    </tr>\n",
       "    <tr>\n",
       "      <th>3</th>\n",
       "      <td>https://m.media-amazon.com/images/M/MV5BMWMwMG...</td>\n",
       "      <td>The Godfather: Part II</td>\n",
       "      <td>1974</td>\n",
       "      <td>A</td>\n",
       "      <td>202 min</td>\n",
       "      <td>Crime, Drama</td>\n",
       "      <td>9.0</td>\n",
       "      <td>The early life and career of Vito Corleone in ...</td>\n",
       "      <td>90.0</td>\n",
       "      <td>Francis Ford Coppola</td>\n",
       "      <td>Al Pacino</td>\n",
       "      <td>Robert De Niro</td>\n",
       "      <td>Robert Duvall</td>\n",
       "      <td>Diane Keaton</td>\n",
       "      <td>1129952</td>\n",
       "      <td>57,300,000</td>\n",
       "    </tr>\n",
       "    <tr>\n",
       "      <th>4</th>\n",
       "      <td>https://m.media-amazon.com/images/M/MV5BMWU4N2...</td>\n",
       "      <td>12 Angry Men</td>\n",
       "      <td>1957</td>\n",
       "      <td>U</td>\n",
       "      <td>96 min</td>\n",
       "      <td>Crime, Drama</td>\n",
       "      <td>9.0</td>\n",
       "      <td>A jury holdout attempts to prevent a miscarria...</td>\n",
       "      <td>96.0</td>\n",
       "      <td>Sidney Lumet</td>\n",
       "      <td>Henry Fonda</td>\n",
       "      <td>Lee J. Cobb</td>\n",
       "      <td>Martin Balsam</td>\n",
       "      <td>John Fiedler</td>\n",
       "      <td>689845</td>\n",
       "      <td>4,360,000</td>\n",
       "    </tr>\n",
       "    <tr>\n",
       "      <th>5</th>\n",
       "      <td>https://m.media-amazon.com/images/M/MV5BNzA5ZD...</td>\n",
       "      <td>The Lord of the Rings: The Return of the King</td>\n",
       "      <td>2003</td>\n",
       "      <td>U</td>\n",
       "      <td>201 min</td>\n",
       "      <td>Action, Adventure, Drama</td>\n",
       "      <td>8.9</td>\n",
       "      <td>Gandalf and Aragorn lead the World of Men agai...</td>\n",
       "      <td>94.0</td>\n",
       "      <td>Peter Jackson</td>\n",
       "      <td>Elijah Wood</td>\n",
       "      <td>Viggo Mortensen</td>\n",
       "      <td>Ian McKellen</td>\n",
       "      <td>Orlando Bloom</td>\n",
       "      <td>1642758</td>\n",
       "      <td>377,845,905</td>\n",
       "    </tr>\n",
       "  </tbody>\n",
       "</table>\n",
       "</div>"
      ],
      "text/plain": [
       "                                         Poster_Link  \\\n",
       "0  https://m.media-amazon.com/images/M/MV5BMDFkYT...   \n",
       "1  https://m.media-amazon.com/images/M/MV5BM2MyNj...   \n",
       "2  https://m.media-amazon.com/images/M/MV5BMTMxNT...   \n",
       "3  https://m.media-amazon.com/images/M/MV5BMWMwMG...   \n",
       "4  https://m.media-amazon.com/images/M/MV5BMWU4N2...   \n",
       "5  https://m.media-amazon.com/images/M/MV5BNzA5ZD...   \n",
       "\n",
       "                                    Series_Title Released_Year Certificate  \\\n",
       "0                       The Shawshank Redemption          1994           A   \n",
       "1                                  The Godfather          1972           A   \n",
       "2                                The Dark Knight          2008          UA   \n",
       "3                         The Godfather: Part II          1974           A   \n",
       "4                                   12 Angry Men          1957           U   \n",
       "5  The Lord of the Rings: The Return of the King          2003           U   \n",
       "\n",
       "   Runtime                     Genre  IMDB_Rating  \\\n",
       "0  142 min                     Drama          9.3   \n",
       "1  175 min              Crime, Drama          9.2   \n",
       "2  152 min      Action, Crime, Drama          9.0   \n",
       "3  202 min              Crime, Drama          9.0   \n",
       "4   96 min              Crime, Drama          9.0   \n",
       "5  201 min  Action, Adventure, Drama          8.9   \n",
       "\n",
       "                                            Overview  Meta_score  \\\n",
       "0  Two imprisoned men bond over a number of years...        80.0   \n",
       "1  An organized crime dynasty's aging patriarch t...       100.0   \n",
       "2  When the menace known as the Joker wreaks havo...        84.0   \n",
       "3  The early life and career of Vito Corleone in ...        90.0   \n",
       "4  A jury holdout attempts to prevent a miscarria...        96.0   \n",
       "5  Gandalf and Aragorn lead the World of Men agai...        94.0   \n",
       "\n",
       "               Director           Star1            Star2          Star3  \\\n",
       "0        Frank Darabont     Tim Robbins   Morgan Freeman     Bob Gunton   \n",
       "1  Francis Ford Coppola   Marlon Brando        Al Pacino     James Caan   \n",
       "2     Christopher Nolan  Christian Bale     Heath Ledger  Aaron Eckhart   \n",
       "3  Francis Ford Coppola       Al Pacino   Robert De Niro  Robert Duvall   \n",
       "4          Sidney Lumet     Henry Fonda      Lee J. Cobb  Martin Balsam   \n",
       "5         Peter Jackson     Elijah Wood  Viggo Mortensen   Ian McKellen   \n",
       "\n",
       "            Star4  No_of_Votes        Gross  \n",
       "0  William Sadler      2343110   28,341,469  \n",
       "1    Diane Keaton      1620367  134,966,411  \n",
       "2   Michael Caine      2303232  534,858,444  \n",
       "3    Diane Keaton      1129952   57,300,000  \n",
       "4    John Fiedler       689845    4,360,000  \n",
       "5   Orlando Bloom      1642758  377,845,905  "
      ]
     },
     "execution_count": 7,
     "metadata": {},
     "output_type": "execute_result"
    }
   ],
   "source": [
    "imdb_data.head(6)"
   ]
  },
  {
   "cell_type": "code",
   "execution_count": 8,
   "id": "9f2d9524",
   "metadata": {},
   "outputs": [
    {
     "data": {
      "text/html": [
       "<div>\n",
       "<style scoped>\n",
       "    .dataframe tbody tr th:only-of-type {\n",
       "        vertical-align: middle;\n",
       "    }\n",
       "\n",
       "    .dataframe tbody tr th {\n",
       "        vertical-align: top;\n",
       "    }\n",
       "\n",
       "    .dataframe thead th {\n",
       "        text-align: right;\n",
       "    }\n",
       "</style>\n",
       "<table border=\"1\" class=\"dataframe\">\n",
       "  <thead>\n",
       "    <tr style=\"text-align: right;\">\n",
       "      <th></th>\n",
       "      <th>Poster_Link</th>\n",
       "      <th>Series_Title</th>\n",
       "      <th>Released_Year</th>\n",
       "      <th>Certificate</th>\n",
       "      <th>Runtime</th>\n",
       "      <th>Genre</th>\n",
       "      <th>IMDB_Rating</th>\n",
       "      <th>Overview</th>\n",
       "      <th>Meta_score</th>\n",
       "      <th>Director</th>\n",
       "      <th>Star1</th>\n",
       "      <th>Star2</th>\n",
       "      <th>Star3</th>\n",
       "      <th>Star4</th>\n",
       "      <th>No_of_Votes</th>\n",
       "      <th>Gross</th>\n",
       "    </tr>\n",
       "  </thead>\n",
       "  <tbody>\n",
       "    <tr>\n",
       "      <th>993</th>\n",
       "      <td>https://m.media-amazon.com/images/M/MV5BYTE4YW...</td>\n",
       "      <td>Blowup</td>\n",
       "      <td>1966</td>\n",
       "      <td>A</td>\n",
       "      <td>111 min</td>\n",
       "      <td>Drama, Mystery, Thriller</td>\n",
       "      <td>7.6</td>\n",
       "      <td>A fashion photographer unknowingly captures a ...</td>\n",
       "      <td>82.0</td>\n",
       "      <td>Michelangelo Antonioni</td>\n",
       "      <td>David Hemmings</td>\n",
       "      <td>Vanessa Redgrave</td>\n",
       "      <td>Sarah Miles</td>\n",
       "      <td>John Castle</td>\n",
       "      <td>56513</td>\n",
       "      <td>NaN</td>\n",
       "    </tr>\n",
       "    <tr>\n",
       "      <th>994</th>\n",
       "      <td>https://m.media-amazon.com/images/M/MV5BZjQyMG...</td>\n",
       "      <td>A Hard Day's Night</td>\n",
       "      <td>1964</td>\n",
       "      <td>U</td>\n",
       "      <td>87 min</td>\n",
       "      <td>Comedy, Music, Musical</td>\n",
       "      <td>7.6</td>\n",
       "      <td>Over two \"typical\" days in the life of The Bea...</td>\n",
       "      <td>96.0</td>\n",
       "      <td>Richard Lester</td>\n",
       "      <td>John Lennon</td>\n",
       "      <td>Paul McCartney</td>\n",
       "      <td>George Harrison</td>\n",
       "      <td>Ringo Starr</td>\n",
       "      <td>40351</td>\n",
       "      <td>13,780,024</td>\n",
       "    </tr>\n",
       "    <tr>\n",
       "      <th>995</th>\n",
       "      <td>https://m.media-amazon.com/images/M/MV5BNGEwMT...</td>\n",
       "      <td>Breakfast at Tiffany's</td>\n",
       "      <td>1961</td>\n",
       "      <td>A</td>\n",
       "      <td>115 min</td>\n",
       "      <td>Comedy, Drama, Romance</td>\n",
       "      <td>7.6</td>\n",
       "      <td>A young New York socialite becomes interested ...</td>\n",
       "      <td>76.0</td>\n",
       "      <td>Blake Edwards</td>\n",
       "      <td>Audrey Hepburn</td>\n",
       "      <td>George Peppard</td>\n",
       "      <td>Patricia Neal</td>\n",
       "      <td>Buddy Ebsen</td>\n",
       "      <td>166544</td>\n",
       "      <td>NaN</td>\n",
       "    </tr>\n",
       "    <tr>\n",
       "      <th>996</th>\n",
       "      <td>https://m.media-amazon.com/images/M/MV5BODk3Yj...</td>\n",
       "      <td>Giant</td>\n",
       "      <td>1956</td>\n",
       "      <td>G</td>\n",
       "      <td>201 min</td>\n",
       "      <td>Drama, Western</td>\n",
       "      <td>7.6</td>\n",
       "      <td>Sprawling epic covering the life of a Texas ca...</td>\n",
       "      <td>84.0</td>\n",
       "      <td>George Stevens</td>\n",
       "      <td>Elizabeth Taylor</td>\n",
       "      <td>Rock Hudson</td>\n",
       "      <td>James Dean</td>\n",
       "      <td>Carroll Baker</td>\n",
       "      <td>34075</td>\n",
       "      <td>NaN</td>\n",
       "    </tr>\n",
       "    <tr>\n",
       "      <th>997</th>\n",
       "      <td>https://m.media-amazon.com/images/M/MV5BM2U3Yz...</td>\n",
       "      <td>From Here to Eternity</td>\n",
       "      <td>1953</td>\n",
       "      <td>Passed</td>\n",
       "      <td>118 min</td>\n",
       "      <td>Drama, Romance, War</td>\n",
       "      <td>7.6</td>\n",
       "      <td>In Hawaii in 1941, a private is cruelly punish...</td>\n",
       "      <td>85.0</td>\n",
       "      <td>Fred Zinnemann</td>\n",
       "      <td>Burt Lancaster</td>\n",
       "      <td>Montgomery Clift</td>\n",
       "      <td>Deborah Kerr</td>\n",
       "      <td>Donna Reed</td>\n",
       "      <td>43374</td>\n",
       "      <td>30,500,000</td>\n",
       "    </tr>\n",
       "    <tr>\n",
       "      <th>998</th>\n",
       "      <td>https://m.media-amazon.com/images/M/MV5BZTBmMj...</td>\n",
       "      <td>Lifeboat</td>\n",
       "      <td>1944</td>\n",
       "      <td>NaN</td>\n",
       "      <td>97 min</td>\n",
       "      <td>Drama, War</td>\n",
       "      <td>7.6</td>\n",
       "      <td>Several survivors of a torpedoed merchant ship...</td>\n",
       "      <td>78.0</td>\n",
       "      <td>Alfred Hitchcock</td>\n",
       "      <td>Tallulah Bankhead</td>\n",
       "      <td>John Hodiak</td>\n",
       "      <td>Walter Slezak</td>\n",
       "      <td>William Bendix</td>\n",
       "      <td>26471</td>\n",
       "      <td>NaN</td>\n",
       "    </tr>\n",
       "    <tr>\n",
       "      <th>999</th>\n",
       "      <td>https://m.media-amazon.com/images/M/MV5BMTY5OD...</td>\n",
       "      <td>The 39 Steps</td>\n",
       "      <td>1935</td>\n",
       "      <td>NaN</td>\n",
       "      <td>86 min</td>\n",
       "      <td>Crime, Mystery, Thriller</td>\n",
       "      <td>7.6</td>\n",
       "      <td>A man in London tries to help a counter-espion...</td>\n",
       "      <td>93.0</td>\n",
       "      <td>Alfred Hitchcock</td>\n",
       "      <td>Robert Donat</td>\n",
       "      <td>Madeleine Carroll</td>\n",
       "      <td>Lucie Mannheim</td>\n",
       "      <td>Godfrey Tearle</td>\n",
       "      <td>51853</td>\n",
       "      <td>NaN</td>\n",
       "    </tr>\n",
       "  </tbody>\n",
       "</table>\n",
       "</div>"
      ],
      "text/plain": [
       "                                           Poster_Link  \\\n",
       "993  https://m.media-amazon.com/images/M/MV5BYTE4YW...   \n",
       "994  https://m.media-amazon.com/images/M/MV5BZjQyMG...   \n",
       "995  https://m.media-amazon.com/images/M/MV5BNGEwMT...   \n",
       "996  https://m.media-amazon.com/images/M/MV5BODk3Yj...   \n",
       "997  https://m.media-amazon.com/images/M/MV5BM2U3Yz...   \n",
       "998  https://m.media-amazon.com/images/M/MV5BZTBmMj...   \n",
       "999  https://m.media-amazon.com/images/M/MV5BMTY5OD...   \n",
       "\n",
       "               Series_Title Released_Year Certificate  Runtime  \\\n",
       "993                  Blowup          1966           A  111 min   \n",
       "994      A Hard Day's Night          1964           U   87 min   \n",
       "995  Breakfast at Tiffany's          1961           A  115 min   \n",
       "996                   Giant          1956           G  201 min   \n",
       "997   From Here to Eternity          1953      Passed  118 min   \n",
       "998                Lifeboat          1944         NaN   97 min   \n",
       "999            The 39 Steps          1935         NaN   86 min   \n",
       "\n",
       "                        Genre  IMDB_Rating  \\\n",
       "993  Drama, Mystery, Thriller          7.6   \n",
       "994    Comedy, Music, Musical          7.6   \n",
       "995    Comedy, Drama, Romance          7.6   \n",
       "996            Drama, Western          7.6   \n",
       "997       Drama, Romance, War          7.6   \n",
       "998                Drama, War          7.6   \n",
       "999  Crime, Mystery, Thriller          7.6   \n",
       "\n",
       "                                              Overview  Meta_score  \\\n",
       "993  A fashion photographer unknowingly captures a ...        82.0   \n",
       "994  Over two \"typical\" days in the life of The Bea...        96.0   \n",
       "995  A young New York socialite becomes interested ...        76.0   \n",
       "996  Sprawling epic covering the life of a Texas ca...        84.0   \n",
       "997  In Hawaii in 1941, a private is cruelly punish...        85.0   \n",
       "998  Several survivors of a torpedoed merchant ship...        78.0   \n",
       "999  A man in London tries to help a counter-espion...        93.0   \n",
       "\n",
       "                   Director              Star1              Star2  \\\n",
       "993  Michelangelo Antonioni     David Hemmings   Vanessa Redgrave   \n",
       "994          Richard Lester        John Lennon     Paul McCartney   \n",
       "995           Blake Edwards     Audrey Hepburn     George Peppard   \n",
       "996          George Stevens   Elizabeth Taylor        Rock Hudson   \n",
       "997          Fred Zinnemann     Burt Lancaster   Montgomery Clift   \n",
       "998        Alfred Hitchcock  Tallulah Bankhead        John Hodiak   \n",
       "999        Alfred Hitchcock       Robert Donat  Madeleine Carroll   \n",
       "\n",
       "               Star3           Star4  No_of_Votes       Gross  \n",
       "993      Sarah Miles     John Castle        56513         NaN  \n",
       "994  George Harrison     Ringo Starr        40351  13,780,024  \n",
       "995    Patricia Neal     Buddy Ebsen       166544         NaN  \n",
       "996       James Dean   Carroll Baker        34075         NaN  \n",
       "997     Deborah Kerr      Donna Reed        43374  30,500,000  \n",
       "998    Walter Slezak  William Bendix        26471         NaN  \n",
       "999   Lucie Mannheim  Godfrey Tearle        51853         NaN  "
      ]
     },
     "execution_count": 8,
     "metadata": {},
     "output_type": "execute_result"
    }
   ],
   "source": [
    "imdb_data.tail(7)"
   ]
  },
  {
   "cell_type": "code",
   "execution_count": 9,
   "id": "09a2bcf3",
   "metadata": {},
   "outputs": [
    {
     "data": {
      "text/plain": [
       "Poster_Link       object\n",
       "Series_Title      object\n",
       "Released_Year     object\n",
       "Certificate       object\n",
       "Runtime           object\n",
       "Genre             object\n",
       "IMDB_Rating      float64\n",
       "Overview          object\n",
       "Meta_score       float64\n",
       "Director          object\n",
       "Star1             object\n",
       "Star2             object\n",
       "Star3             object\n",
       "Star4             object\n",
       "No_of_Votes        int64\n",
       "Gross             object\n",
       "dtype: object"
      ]
     },
     "execution_count": 9,
     "metadata": {},
     "output_type": "execute_result"
    }
   ],
   "source": [
    "imdb_data.dtypes"
   ]
  },
  {
   "cell_type": "code",
   "execution_count": 10,
   "id": "585b0272",
   "metadata": {},
   "outputs": [
    {
     "data": {
      "text/plain": [
       "Poster_Link        0\n",
       "Series_Title       0\n",
       "Released_Year      0\n",
       "Certificate      101\n",
       "Runtime            0\n",
       "Genre              0\n",
       "IMDB_Rating        0\n",
       "Overview           0\n",
       "Meta_score       157\n",
       "Director           0\n",
       "Star1              0\n",
       "Star2              0\n",
       "Star3              0\n",
       "Star4              0\n",
       "No_of_Votes        0\n",
       "Gross            169\n",
       "dtype: int64"
      ]
     },
     "execution_count": 10,
     "metadata": {},
     "output_type": "execute_result"
    }
   ],
   "source": [
    "imdb_data.isnull().sum()"
   ]
  },
  {
   "cell_type": "code",
   "execution_count": 11,
   "id": "84d2603a",
   "metadata": {},
   "outputs": [
    {
     "data": {
      "text/plain": [
       "(1000, 16)"
      ]
     },
     "execution_count": 11,
     "metadata": {},
     "output_type": "execute_result"
    }
   ],
   "source": [
    "imdb_data.shape"
   ]
  },
  {
   "cell_type": "code",
   "execution_count": 12,
   "id": "295d0b30",
   "metadata": {},
   "outputs": [
    {
     "data": {
      "text/plain": [
       "array(['A', 'UA', 'U', 'PG-13', 'R', nan, 'PG', 'G', 'Passed', 'TV-14',\n",
       "       '16', 'TV-MA', 'Unrated', 'GP', 'Approved', 'TV-PG', 'U/A'],\n",
       "      dtype=object)"
      ]
     },
     "execution_count": 12,
     "metadata": {},
     "output_type": "execute_result"
    }
   ],
   "source": [
    "imdb_data['Certificate'].unique()"
   ]
  },
  {
   "cell_type": "code",
   "execution_count": 15,
   "id": "1ff47cce",
   "metadata": {},
   "outputs": [
    {
     "name": "stdout",
     "output_type": "stream",
     "text": [
      "Series([], Name: Gross, dtype: object)\n"
     ]
    }
   ],
   "source": [
    "x=imdb_data['Gross'].loc[imdb_data['Gross']==0]\n",
    "print(x)"
   ]
  },
  {
   "cell_type": "markdown",
   "id": "c7d26c65",
   "metadata": {},
   "source": [
    "## no element found"
   ]
  },
  {
   "cell_type": "code",
   "execution_count": 21,
   "id": "abb25051",
   "metadata": {},
   "outputs": [
    {
     "name": "stdout",
     "output_type": "stream",
     "text": [
      "77.97153024911032\n"
     ]
    }
   ],
   "source": [
    "mean = imdb_data['Meta_score'].mean()\n",
    "print(mean)"
   ]
  },
  {
   "cell_type": "code",
   "execution_count": 22,
   "id": "8845ecb1",
   "metadata": {},
   "outputs": [],
   "source": [
    "imdb_data['Meta_score'] = imdb_data['Meta_score'].fillna(mean)"
   ]
  },
  {
   "cell_type": "code",
   "execution_count": 24,
   "id": "3627e5ea",
   "metadata": {},
   "outputs": [
    {
     "name": "stdout",
     "output_type": "stream",
     "text": [
      "68034750.87364621\n"
     ]
    }
   ],
   "source": [
    "imdb_data['Gross'] = imdb_data['Gross'].apply(lambda x: str(x).replace(',','') if ',' in str(x) else str(x))\n",
    "imdb_data['Gross'] = imdb_data['Gross'].apply(lambda x: float(x))\n",
    "mean = imdb_data['Gross'].mean()\n",
    "print(mean)"
   ]
  },
  {
   "cell_type": "code",
   "execution_count": 25,
   "id": "a8622792",
   "metadata": {},
   "outputs": [],
   "source": [
    "imdb_data['Gross'] = imdb_data['Gross'].fillna(mean)"
   ]
  },
  {
   "cell_type": "code",
   "execution_count": 26,
   "id": "8888e338",
   "metadata": {},
   "outputs": [
    {
     "data": {
      "text/plain": [
       "0      2.834147e+07\n",
       "1      1.349664e+08\n",
       "2      5.348584e+08\n",
       "3      5.730000e+07\n",
       "4      4.360000e+06\n",
       "           ...     \n",
       "995    6.803475e+07\n",
       "996    6.803475e+07\n",
       "997    3.050000e+07\n",
       "998    6.803475e+07\n",
       "999    6.803475e+07\n",
       "Name: Gross, Length: 1000, dtype: float64"
      ]
     },
     "execution_count": 26,
     "metadata": {},
     "output_type": "execute_result"
    }
   ],
   "source": [
    "imdb_data['Gross']"
   ]
  },
  {
   "cell_type": "code",
   "execution_count": 27,
   "id": "210c2786",
   "metadata": {},
   "outputs": [
    {
     "name": "stdout",
     "output_type": "stream",
     "text": [
      "68034750.87364644\n"
     ]
    }
   ],
   "source": [
    "mean = imdb_data['Gross'].mean()\n",
    "print(mean)"
   ]
  },
  {
   "cell_type": "markdown",
   "id": "dd83c3ea",
   "metadata": {},
   "source": [
    "## The missing values are replaced"
   ]
  },
  {
   "cell_type": "code",
   "execution_count": 28,
   "id": "3cebd1b3",
   "metadata": {},
   "outputs": [
    {
     "data": {
      "text/plain": [
       "array(['A', 'UA', 'U', 'PG-13', 'R', nan, 'PG', 'G', 'Passed', 'TV-14',\n",
       "       '16', 'TV-MA', 'Unrated', 'GP', 'Approved', 'TV-PG', 'U/A'],\n",
       "      dtype=object)"
      ]
     },
     "execution_count": 28,
     "metadata": {},
     "output_type": "execute_result"
    }
   ],
   "source": [
    "imdb_data['Certificate'].unique()"
   ]
  },
  {
   "cell_type": "code",
   "execution_count": 29,
   "id": "931105ea",
   "metadata": {},
   "outputs": [
    {
     "data": {
      "text/plain": [
       "0    U\n",
       "Name: Certificate, dtype: object"
      ]
     },
     "execution_count": 29,
     "metadata": {},
     "output_type": "execute_result"
    }
   ],
   "source": [
    "imdb_data['Certificate'].mode()"
   ]
  },
  {
   "cell_type": "code",
   "execution_count": 30,
   "id": "fbe19b5e",
   "metadata": {},
   "outputs": [
    {
     "name": "stdout",
     "output_type": "stream",
     "text": [
      "234\n"
     ]
    }
   ],
   "source": [
    "U_count = imdb_data['Certificate'].value_counts()['U']\n",
    "print(U_count)"
   ]
  },
  {
   "cell_type": "code",
   "execution_count": 31,
   "id": "e8015126",
   "metadata": {},
   "outputs": [],
   "source": [
    "imdb_data['Certificate'] = imdb_data['Certificate'].fillna(U_count)"
   ]
  },
  {
   "cell_type": "code",
   "execution_count": 32,
   "id": "8232cd77",
   "metadata": {},
   "outputs": [
    {
     "data": {
      "text/plain": [
       "Poster_Link      0\n",
       "Series_Title     0\n",
       "Released_Year    0\n",
       "Certificate      0\n",
       "Runtime          0\n",
       "Genre            0\n",
       "IMDB_Rating      0\n",
       "Overview         0\n",
       "Meta_score       0\n",
       "Director         0\n",
       "Star1            0\n",
       "Star2            0\n",
       "Star3            0\n",
       "Star4            0\n",
       "No_of_Votes      0\n",
       "Gross            0\n",
       "dtype: int64"
      ]
     },
     "execution_count": 32,
     "metadata": {},
     "output_type": "execute_result"
    }
   ],
   "source": [
    "imdb_data.isnull().sum()"
   ]
  },
  {
   "cell_type": "markdown",
   "id": "e5a8ff9e",
   "metadata": {},
   "source": [
    "## Now lets remove the uneccesary columns"
   ]
  },
  {
   "cell_type": "code",
   "execution_count": 33,
   "id": "e793945e",
   "metadata": {},
   "outputs": [],
   "source": [
    "#imdb_data = imdb_data.drop(['Poster_Link','Series_Title','Overview'],axis=1)"
   ]
  },
  {
   "cell_type": "markdown",
   "id": "3dd8aef7",
   "metadata": {},
   "source": [
    "## removed because not useful for analysis"
   ]
  },
  {
   "cell_type": "code",
   "execution_count": 34,
   "id": "e66d52bf",
   "metadata": {},
   "outputs": [],
   "source": [
    "for i in range(len(imdb_data)):\n",
    "    imdb_data.loc[i, 'Runtime'] = imdb_data.loc[i, 'Runtime'].replace(' min', '')"
   ]
  },
  {
   "cell_type": "code",
   "execution_count": 35,
   "id": "69936f3e",
   "metadata": {},
   "outputs": [
    {
     "data": {
      "text/plain": [
       "0      142\n",
       "1      175\n",
       "2      152\n",
       "3      202\n",
       "4       96\n",
       "      ... \n",
       "995    115\n",
       "996    201\n",
       "997    118\n",
       "998     97\n",
       "999     86\n",
       "Name: Runtime, Length: 1000, dtype: object"
      ]
     },
     "execution_count": 35,
     "metadata": {},
     "output_type": "execute_result"
    }
   ],
   "source": [
    "imdb_data['Runtime']"
   ]
  },
  {
   "cell_type": "code",
   "execution_count": 36,
   "id": "601babed",
   "metadata": {},
   "outputs": [
    {
     "data": {
      "text/plain": [
       "array(['1994', '1972', '2008', '1974', '1957', '2003', '1993', '2010',\n",
       "       '1999', '2001', '1966', '2002', '1990', '1980', '1975', '2020',\n",
       "       '2019', '2014', '1998', '1997', '1995', '1991', '1977', '1962',\n",
       "       '1954', '1946', '2011', '2006', '2000', '1988', '1985', '1968',\n",
       "       '1960', '1942', '1936', '1931', '2018', '2017', '2016', '2012',\n",
       "       '2009', '2007', '1984', '1981', '1979', '1971', '1963', '1964',\n",
       "       '1950', '1940', '2013', '2005', '2004', '1992', '1987', '1986',\n",
       "       '1983', '1976', '1973', '1965', '1959', '1958', '1952', '1948',\n",
       "       '1944', '1941', '1927', '1921', '2015', '1996', '1989', '1978',\n",
       "       '1961', '1955', '1953', '1925', '1924', '1982', '1967', '1951',\n",
       "       '1949', '1939', '1937', '1934', '1928', '1926', '1920', '1970',\n",
       "       '1969', '1956', '1947', '1945', '1930', '1938', '1935', '1933',\n",
       "       '1932', '1922', '1943', 'PG'], dtype=object)"
      ]
     },
     "execution_count": 36,
     "metadata": {},
     "output_type": "execute_result"
    }
   ],
   "source": [
    "imdb_data['Released_Year'].unique()"
   ]
  },
  {
   "cell_type": "code",
   "execution_count": 37,
   "id": "0cbab970",
   "metadata": {},
   "outputs": [
    {
     "data": {
      "text/plain": [
       "2014    32\n",
       "2004    31\n",
       "2009    29\n",
       "2013    28\n",
       "2016    28\n",
       "        ..\n",
       "1926     1\n",
       "1936     1\n",
       "1924     1\n",
       "1921     1\n",
       "PG       1\n",
       "Name: Released_Year, Length: 100, dtype: int64"
      ]
     },
     "execution_count": 37,
     "metadata": {},
     "output_type": "execute_result"
    }
   ],
   "source": [
    "imdb_data['Released_Year'].value_counts()"
   ]
  },
  {
   "cell_type": "code",
   "execution_count": 38,
   "id": "ef3b37ea",
   "metadata": {},
   "outputs": [
    {
     "name": "stdout",
     "output_type": "stream",
     "text": [
      "966    PG\n",
      "Name: Released_Year, dtype: object\n"
     ]
    }
   ],
   "source": [
    "x = imdb_data['Released_Year'].loc[imdb_data['Released_Year'] == 'PG']\n",
    "print(x)"
   ]
  },
  {
   "cell_type": "code",
   "execution_count": 39,
   "id": "562e58da",
   "metadata": {},
   "outputs": [],
   "source": [
    "imdb_data = imdb_data.drop(labels=966 , axis=0)"
   ]
  },
  {
   "cell_type": "code",
   "execution_count": 40,
   "id": "a4bb7a3f",
   "metadata": {},
   "outputs": [],
   "source": [
    "imdb_data['Released_Year'] = imdb_data['Released_Year'].astype(int)"
   ]
  },
  {
   "cell_type": "code",
   "execution_count": 41,
   "id": "53afcc76",
   "metadata": {},
   "outputs": [
    {
     "data": {
      "image/png": "[encoded data removed]",
      "text/plain": [
       "<Figure size 1080x576 with 1 Axes>"
      ]
     },
     "metadata": {
      "needs_background": "light"
     },
     "output_type": "display_data"
    }
   ],
   "source": [
    "plt.figure(figsize=(15,8))\n",
    "sns.countplot(x = 'Certificate',data=imdb_data,color ='#00FFFF')\n",
    "\n",
    "plt.xticks(rotation = 90);"
   ]
  },
  {
   "cell_type": "markdown",
   "id": "263af7f9",
   "metadata": {},
   "source": [
    "## U certificate movies are rated in top 1000 because friendly to all categories"
   ]
  },
  {
   "cell_type": "code",
   "execution_count": 42,
   "id": "ad3944d2",
   "metadata": {},
   "outputs": [
    {
     "data": {
      "text/plain": [
       "(array([ 0,  1,  2,  3,  4,  5,  6,  7,  8,  9, 10, 11, 12, 13, 14, 15, 16,\n",
       "        17, 18, 19, 20, 21, 22, 23, 24, 25, 26, 27, 28, 29, 30, 31, 32, 33,\n",
       "        34, 35, 36, 37, 38, 39, 40, 41, 42, 43, 44, 45, 46, 47, 48, 49, 50,\n",
       "        51, 52, 53, 54, 55, 56, 57, 58, 59, 60, 61, 62, 63, 64, 65, 66, 67,\n",
       "        68, 69, 70, 71, 72, 73, 74, 75, 76, 77, 78, 79, 80, 81, 82, 83, 84,\n",
       "        85, 86, 87, 88, 89, 90, 91, 92, 93, 94, 95, 96, 97, 98]),\n",
       " [Text(0, 0, '1920'),\n",
       "  Text(1, 0, '1921'),\n",
       "  Text(2, 0, '1922'),\n",
       "  Text(3, 0, '1924'),\n",
       "  Text(4, 0, '1925'),\n",
       "  Text(5, 0, '1926'),\n",
       "  Text(6, 0, '1927'),\n",
       "  Text(7, 0, '1928'),\n",
       "  Text(8, 0, '1930'),\n",
       "  Text(9, 0, '1931'),\n",
       "  Text(10, 0, '1932'),\n",
       "  Text(11, 0, '1933'),\n",
       "  Text(12, 0, '1934'),\n",
       "  Text(13, 0, '1935'),\n",
       "  Text(14, 0, '1936'),\n",
       "  Text(15, 0, '1937'),\n",
       "  Text(16, 0, '1938'),\n",
       "  Text(17, 0, '1939'),\n",
       "  Text(18, 0, '1940'),\n",
       "  Text(19, 0, '1941'),\n",
       "  Text(20, 0, '1942'),\n",
       "  Text(21, 0, '1943'),\n",
       "  Text(22, 0, '1944'),\n",
       "  Text(23, 0, '1945'),\n",
       "  Text(24, 0, '1946'),\n",
       "  Text(25, 0, '1947'),\n",
       "  Text(26, 0, '1948'),\n",
       "  Text(27, 0, '1949'),\n",
       "  Text(28, 0, '1950'),\n",
       "  Text(29, 0, '1951'),\n",
       "  Text(30, 0, '1952'),\n",
       "  Text(31, 0, '1953'),\n",
       "  Text(32, 0, '1954'),\n",
       "  Text(33, 0, '1955'),\n",
       "  Text(34, 0, '1956'),\n",
       "  Text(35, 0, '1957'),\n",
       "  Text(36, 0, '1958'),\n",
       "  Text(37, 0, '1959'),\n",
       "  Text(38, 0, '1960'),\n",
       "  Text(39, 0, '1961'),\n",
       "  Text(40, 0, '1962'),\n",
       "  Text(41, 0, '1963'),\n",
       "  Text(42, 0, '1964'),\n",
       "  Text(43, 0, '1965'),\n",
       "  Text(44, 0, '1966'),\n",
       "  Text(45, 0, '1967'),\n",
       "  Text(46, 0, '1968'),\n",
       "  Text(47, 0, '1969'),\n",
       "  Text(48, 0, '1970'),\n",
       "  Text(49, 0, '1971'),\n",
       "  Text(50, 0, '1972'),\n",
       "  Text(51, 0, '1973'),\n",
       "  Text(52, 0, '1974'),\n",
       "  Text(53, 0, '1975'),\n",
       "  Text(54, 0, '1976'),\n",
       "  Text(55, 0, '1977'),\n",
       "  Text(56, 0, '1978'),\n",
       "  Text(57, 0, '1979'),\n",
       "  Text(58, 0, '1980'),\n",
       "  Text(59, 0, '1981'),\n",
       "  Text(60, 0, '1982'),\n",
       "  Text(61, 0, '1983'),\n",
       "  Text(62, 0, '1984'),\n",
       "  Text(63, 0, '1985'),\n",
       "  Text(64, 0, '1986'),\n",
       "  Text(65, 0, '1987'),\n",
       "  Text(66, 0, '1988'),\n",
       "  Text(67, 0, '1989'),\n",
       "  Text(68, 0, '1990'),\n",
       "  Text(69, 0, '1991'),\n",
       "  Text(70, 0, '1992'),\n",
       "  Text(71, 0, '1993'),\n",
       "  Text(72, 0, '1994'),\n",
       "  Text(73, 0, '1995'),\n",
       "  Text(74, 0, '1996'),\n",
       "  Text(75, 0, '1997'),\n",
       "  Text(76, 0, '1998'),\n",
       "  Text(77, 0, '1999'),\n",
       "  Text(78, 0, '2000'),\n",
       "  Text(79, 0, '2001'),\n",
       "  Text(80, 0, '2002'),\n",
       "  Text(81, 0, '2003'),\n",
       "  Text(82, 0, '2004'),\n",
       "  Text(83, 0, '2005'),\n",
       "  Text(84, 0, '2006'),\n",
       "  Text(85, 0, '2007'),\n",
       "  Text(86, 0, '2008'),\n",
       "  Text(87, 0, '2009'),\n",
       "  Text(88, 0, '2010'),\n",
       "  Text(89, 0, '2011'),\n",
       "  Text(90, 0, '2012'),\n",
       "  Text(91, 0, '2013'),\n",
       "  Text(92, 0, '2014'),\n",
       "  Text(93, 0, '2015'),\n",
       "  Text(94, 0, '2016'),\n",
       "  Text(95, 0, '2017'),\n",
       "  Text(96, 0, '2018'),\n",
       "  Text(97, 0, '2019'),\n",
       "  Text(98, 0, '2020')])"
      ]
     },
     "execution_count": 42,
     "metadata": {},
     "output_type": "execute_result"
    },
    {
     "data": {
      "image/png": "[encoded data removed]",
      "text/plain": [
       "<Figure size 1080x576 with 1 Axes>"
      ]
     },
     "metadata": {
      "needs_background": "light"
     },
     "output_type": "display_data"
    }
   ],
   "source": [
    "plt.figure(figsize=(15,8))\n",
    "sns.countplot(x='Released_Year',color = '#00FFFF',data = imdb_data)\n",
    "plt.xticks(rotation=90)"
   ]
  },
  {
   "cell_type": "code",
   "execution_count": 43,
   "id": "73a4843a",
   "metadata": {},
   "outputs": [
    {
     "data": {
      "image/png": "[encoded data removed]",
      "text/plain": [
       "<Figure size 1080x576 with 1 Axes>"
      ]
     },
     "metadata": {
      "needs_background": "light"
     },
     "output_type": "display_data"
    }
   ],
   "source": [
    "plt.figure(figsize=(15,8))\n",
    "sns.countplot(x = 'IMDB_Rating',color='#0000FF',data=imdb_data)\n",
    "plt.show();"
   ]
  },
  {
   "cell_type": "markdown",
   "id": "fdc5d5b2",
   "metadata": {},
   "source": [
    "## Highest rated movie is 9.3"
   ]
  },
  {
   "cell_type": "markdown",
   "id": "02c9a501",
   "metadata": {},
   "source": [
    "## many movies rated above 7.5"
   ]
  },
  {
   "cell_type": "code",
   "execution_count": 47,
   "id": "3383bcc5",
   "metadata": {},
   "outputs": [
    {
     "data": {
      "text/html": [
       "<div>\n",
       "<style scoped>\n",
       "    .dataframe tbody tr th:only-of-type {\n",
       "        vertical-align: middle;\n",
       "    }\n",
       "\n",
       "    .dataframe tbody tr th {\n",
       "        vertical-align: top;\n",
       "    }\n",
       "\n",
       "    .dataframe thead th {\n",
       "        text-align: right;\n",
       "    }\n",
       "</style>\n",
       "<table border=\"1\" class=\"dataframe\">\n",
       "  <thead>\n",
       "    <tr style=\"text-align: right;\">\n",
       "      <th></th>\n",
       "      <th>Genre</th>\n",
       "      <th>IMDB_Rating</th>\n",
       "    </tr>\n",
       "  </thead>\n",
       "  <tbody>\n",
       "    <tr>\n",
       "      <th>0</th>\n",
       "      <td>Animation, Drama, War</td>\n",
       "      <td>8.50</td>\n",
       "    </tr>\n",
       "    <tr>\n",
       "      <th>1</th>\n",
       "      <td>Drama, Musical</td>\n",
       "      <td>8.40</td>\n",
       "    </tr>\n",
       "    <tr>\n",
       "      <th>2</th>\n",
       "      <td>Action, Sci-Fi</td>\n",
       "      <td>8.40</td>\n",
       "    </tr>\n",
       "    <tr>\n",
       "      <th>3</th>\n",
       "      <td>Drama, Mystery, War</td>\n",
       "      <td>8.35</td>\n",
       "    </tr>\n",
       "    <tr>\n",
       "      <th>4</th>\n",
       "      <td>Western</td>\n",
       "      <td>8.35</td>\n",
       "    </tr>\n",
       "    <tr>\n",
       "      <th>5</th>\n",
       "      <td>Crime, Drama, Music</td>\n",
       "      <td>8.30</td>\n",
       "    </tr>\n",
       "    <tr>\n",
       "      <th>6</th>\n",
       "      <td>Mystery, Romance, Thriller</td>\n",
       "      <td>8.30</td>\n",
       "    </tr>\n",
       "    <tr>\n",
       "      <th>7</th>\n",
       "      <td>Adventure, Mystery, Thriller</td>\n",
       "      <td>8.30</td>\n",
       "    </tr>\n",
       "    <tr>\n",
       "      <th>8</th>\n",
       "      <td>Drama, Fantasy, Horror</td>\n",
       "      <td>8.30</td>\n",
       "    </tr>\n",
       "    <tr>\n",
       "      <th>9</th>\n",
       "      <td>Comedy, Musical, Romance</td>\n",
       "      <td>8.30</td>\n",
       "    </tr>\n",
       "  </tbody>\n",
       "</table>\n",
       "</div>"
      ],
      "text/plain": [
       "                          Genre  IMDB_Rating\n",
       "0         Animation, Drama, War         8.50\n",
       "1                Drama, Musical         8.40\n",
       "2                Action, Sci-Fi         8.40\n",
       "3           Drama, Mystery, War         8.35\n",
       "4                       Western         8.35\n",
       "5           Crime, Drama, Music         8.30\n",
       "6    Mystery, Romance, Thriller         8.30\n",
       "7  Adventure, Mystery, Thriller         8.30\n",
       "8        Drama, Fantasy, Horror         8.30\n",
       "9      Comedy, Musical, Romance         8.30"
      ]
     },
     "execution_count": 47,
     "metadata": {},
     "output_type": "execute_result"
    }
   ],
   "source": [
    "top_rates = imdb_data.groupby('Genre').mean().sort_values('IMDB_Rating',ascending=False).head(10)\n",
    "top_rates = top_rates[['IMDB_Rating']].round(2)\n",
    "top_rates.reset_index(inplace = True)\n",
    "top_rates"
   ]
  },
  {
   "cell_type": "markdown",
   "id": "2556b238",
   "metadata": {},
   "source": [
    "## Animation, Drama, War Genre has the Highest IMDb rating of 8.5"
   ]
  },
  {
   "cell_type": "code",
   "execution_count": 49,
   "id": "2921ba9f",
   "metadata": {},
   "outputs": [
    {
     "data": {
      "image/png": "[encoded data removed]",
      "text/plain": [
       "<Figure size 1080x576 with 1 Axes>"
      ]
     },
     "metadata": {
      "needs_background": "light"
     },
     "output_type": "display_data"
    }
   ],
   "source": [
    "plt.figure(figsize=(15,8))\n",
    "plt.bar(top_rates['Genre'],top_rates['IMDB_Rating'],color='#B7950B',edgecolor='black' )\n",
    "plt.xticks(rotation=90)\n",
    "for k,v in top_rates['IMDB_Rating'].items():\n",
    "    plt.text(k,v-5,str(v),rotation=90)"
   ]
  },
  {
   "cell_type": "code",
   "execution_count": 50,
   "id": "69fba7b1",
   "metadata": {},
   "outputs": [
    {
     "data": {
      "text/html": [
       "<div>\n",
       "<style scoped>\n",
       "    .dataframe tbody tr th:only-of-type {\n",
       "        vertical-align: middle;\n",
       "    }\n",
       "\n",
       "    .dataframe tbody tr th {\n",
       "        vertical-align: top;\n",
       "    }\n",
       "\n",
       "    .dataframe thead th {\n",
       "        text-align: right;\n",
       "    }\n",
       "</style>\n",
       "<table border=\"1\" class=\"dataframe\">\n",
       "  <thead>\n",
       "    <tr style=\"text-align: right;\">\n",
       "      <th></th>\n",
       "      <th>Genre</th>\n",
       "      <th>Meta_score</th>\n",
       "    </tr>\n",
       "  </thead>\n",
       "  <tbody>\n",
       "    <tr>\n",
       "      <th>0</th>\n",
       "      <td>Mystery, Romance, Thriller</td>\n",
       "      <td>100.0</td>\n",
       "    </tr>\n",
       "    <tr>\n",
       "      <th>1</th>\n",
       "      <td>Comedy, Musical, Romance</td>\n",
       "      <td>99.0</td>\n",
       "    </tr>\n",
       "    <tr>\n",
       "      <th>2</th>\n",
       "      <td>Drama, Fantasy, War</td>\n",
       "      <td>98.0</td>\n",
       "    </tr>\n",
       "    <tr>\n",
       "      <th>3</th>\n",
       "      <td>Adventure, Mystery, Thriller</td>\n",
       "      <td>98.0</td>\n",
       "    </tr>\n",
       "    <tr>\n",
       "      <th>4</th>\n",
       "      <td>Comedy, Music, Romance</td>\n",
       "      <td>98.0</td>\n",
       "    </tr>\n",
       "    <tr>\n",
       "      <th>5</th>\n",
       "      <td>Action, Adventure, Romance</td>\n",
       "      <td>97.0</td>\n",
       "    </tr>\n",
       "    <tr>\n",
       "      <th>6</th>\n",
       "      <td>Film-Noir, Mystery, Thriller</td>\n",
       "      <td>97.0</td>\n",
       "    </tr>\n",
       "    <tr>\n",
       "      <th>7</th>\n",
       "      <td>Film-Noir, Mystery</td>\n",
       "      <td>96.0</td>\n",
       "    </tr>\n",
       "    <tr>\n",
       "      <th>8</th>\n",
       "      <td>Animation, Drama, War</td>\n",
       "      <td>94.0</td>\n",
       "    </tr>\n",
       "    <tr>\n",
       "      <th>9</th>\n",
       "      <td>Film-Noir, Thriller</td>\n",
       "      <td>94.0</td>\n",
       "    </tr>\n",
       "  </tbody>\n",
       "</table>\n",
       "</div>"
      ],
      "text/plain": [
       "                          Genre  Meta_score\n",
       "0    Mystery, Romance, Thriller       100.0\n",
       "1      Comedy, Musical, Romance        99.0\n",
       "2           Drama, Fantasy, War        98.0\n",
       "3  Adventure, Mystery, Thriller        98.0\n",
       "4        Comedy, Music, Romance        98.0\n",
       "5    Action, Adventure, Romance        97.0\n",
       "6  Film-Noir, Mystery, Thriller        97.0\n",
       "7            Film-Noir, Mystery        96.0\n",
       "8         Animation, Drama, War        94.0\n",
       "9           Film-Noir, Thriller        94.0"
      ]
     },
     "execution_count": 50,
     "metadata": {},
     "output_type": "execute_result"
    }
   ],
   "source": [
    "top_rates=imdb_data.groupby('Genre').mean().sort_values('Meta_score',ascending=False).head(10)\n",
    "top_rates = top_rates[['Meta_score']].round(2)\n",
    "top_rates.reset_index(inplace=True)\n",
    "top_rates"
   ]
  },
  {
   "cell_type": "code",
   "execution_count": 51,
   "id": "c51f4e50",
   "metadata": {},
   "outputs": [
    {
     "data": {
      "image/png": "[encoded data removed]",
      "text/plain": [
       "<Figure size 1080x576 with 1 Axes>"
      ]
     },
     "metadata": {
      "needs_background": "light"
     },
     "output_type": "display_data"
    }
   ],
   "source": [
    "plt.figure(figsize=(15,8))\n",
    "plt.bar(top_rates['Genre'],top_rates['Meta_score'],color='#B7950B',edgecolor='black' )\n",
    "plt.xticks(rotation='vertical')\n",
    "for k,v in top_rates['Meta_score'].items():\n",
    "    plt.text(k,v-11,str(v),rotation=90)"
   ]
  },
  {
   "cell_type": "code",
   "execution_count": 52,
   "id": "721740be",
   "metadata": {},
   "outputs": [
    {
     "data": {
      "image/png": "[encoded data removed]",
      "text/plain": [
       "<Figure size 1080x576 with 1 Axes>"
      ]
     },
     "metadata": {
      "needs_background": "light"
     },
     "output_type": "display_data"
    }
   ],
   "source": [
    "top_earn = imdb_data.groupby('Genre').sum().sort_values('Gross',ascending=False).head(10)\n",
    "top_earn=top_earn[['Gross']]\n",
    "top_earn.reset_index(inplace=True)\n",
    "\n",
    "plt.figure(figsize=(15,8))\n",
    "plt.bar(top_earn['Genre'],top_earn['Gross'],color='#B7950B',edgecolor='black')\n",
    "plt.xticks(rotation='vertical')\n",
    "for k,v in top_earn['Gross'].items():\n",
    "    plt.text(k,v-1450000000,str(v),rotation=90)"
   ]
  },
  {
   "cell_type": "markdown",
   "id": "891fc01b",
   "metadata": {},
   "source": [
    "## Action ,Adventure ,sci-fi achived most earnings"
   ]
  },
  {
   "cell_type": "code",
   "execution_count": 53,
   "id": "00b52154",
   "metadata": {},
   "outputs": [
    {
     "data": {
      "image/png": "[encoded data removed]",
      "text/plain": [
       "<Figure size 1080x576 with 1 Axes>"
      ]
     },
     "metadata": {
      "needs_background": "light"
     },
     "output_type": "display_data"
    }
   ],
   "source": [
    "plt.figure(figsize=(15,8))\n",
    "sns.barplot(x='Certificate',y='Gross',color='#B7950B',data=imdb_data,ci=False)\n",
    "plt.xticks(rotation='vertical')\n",
    "plt.show();"
   ]
  },
  {
   "cell_type": "markdown",
   "id": "615395db",
   "metadata": {},
   "source": [
    "## UA certificate movies achived more earnings"
   ]
  },
  {
   "cell_type": "code",
   "execution_count": 54,
   "id": "0cacb0b4",
   "metadata": {},
   "outputs": [
    {
     "data": {
      "image/png": "[encoded data removed]",
      "text/plain": [
       "<Figure size 1080x576 with 1 Axes>"
      ]
     },
     "metadata": {
      "needs_background": "light"
     },
     "output_type": "display_data"
    }
   ],
   "source": [
    "top_director=imdb_data.groupby('Director').mean().sort_values('Gross').head(10)\n",
    "top_director=top_director[['IMDB_Rating']]\n",
    "top_director.reset_index(inplace=True)\n",
    "\n",
    "plt.figure(figsize=(15,8))\n",
    "sns.barplot(x='Director',y='IMDB_Rating',data=top_director,color='#B7950B',edgecolor='black')\n",
    "plt.xticks(rotation='vertical')\n",
    "\n",
    "for k,v in top_director['IMDB_Rating'].items():\n",
    "    plt.text(k,v-2,str(v),rotation=90)"
   ]
  },
  {
   "cell_type": "code",
   "execution_count": 55,
   "id": "8b08b86f",
   "metadata": {},
   "outputs": [
    {
     "data": {
      "image/png": "[encoded data removed]",
      "text/plain": [
       "<Figure size 1080x576 with 1 Axes>"
      ]
     },
     "metadata": {
      "needs_background": "light"
     },
     "output_type": "display_data"
    }
   ],
   "source": [
    "top_director=imdb_data.groupby('Director').mean().sort_values('Gross').head(10)\n",
    "top_director=top_director[['IMDB_Rating']]\n",
    "top_director.reset_index(inplace=True)\n",
    "\n",
    "plt.figure(figsize=(15,8))\n",
    "sns.barplot(x='Director',y='IMDB_Rating',data=top_director,color='#B7950B',edgecolor='black')\n",
    "plt.xticks(rotation='vertical')\n",
    "\n",
    "for k,v in top_director['IMDB_Rating'].items():\n",
    "    plt.text(k,v-2,str(v),rotation=90)"
   ]
  },
  {
   "cell_type": "markdown",
   "id": "9a627d2a",
   "metadata": {},
   "source": [
    "## Directors of Tigmanshu Dhulia , Vikramaditya motwane achived the high imdb rates"
   ]
  }
 ],
 "metadata": {
  "kernelspec": {
   "display_name": "Python 3 (ipykernel)",
   "language": "python",
   "name": "python3"
  },
  "language_info": {
   "codemirror_mode": {
    "name": "ipython",
    "version": 3
   },
   "file_extension": ".py",
   "mimetype": "text/x-python",
   "name": "python",
   "nbconvert_exporter": "python",
   "pygments_lexer": "ipython3",
   "version": "3.9.12"
  }
 },
 "nbformat": 4,
 "nbformat_minor": 5
}
